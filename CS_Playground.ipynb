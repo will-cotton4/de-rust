{
  "nbformat": 4,
  "nbformat_minor": 0,
  "metadata": {
    "colab": {
      "name": "CS Playground",
      "provenance": [],
      "authorship_tag": "ABX9TyNr9dm+fLmzf98R2EpPnAkm",
      "include_colab_link": true
    },
    "kernelspec": {
      "name": "python3",
      "display_name": "Python 3"
    },
    "language_info": {
      "name": "python"
    }
  },
  "cells": [
    {
      "cell_type": "markdown",
      "metadata": {
        "id": "view-in-github",
        "colab_type": "text"
      },
      "source": [
        "<a href=\"https://colab.research.google.com/github/will-cotton4/de-rust/blob/main/CS_Playground.ipynb\" target=\"_parent\"><img src=\"https://colab.research.google.com/assets/colab-badge.svg\" alt=\"Open In Colab\"/></a>"
      ]
    },
    {
      "cell_type": "code",
      "execution_count": null,
      "metadata": {
        "id": "B2rn40-wy1PC"
      },
      "outputs": [],
      "source": [
        "def int_to_base(num, base):\n",
        "    # Converts a non-negative integer to an arbitrary base\n",
        "    # Returns an array, e.g. int_to_base(6, 2) => [1, 1, 0]\n",
        "    if num == 0:\n",
        "        return []\n",
        "    quotient = num // base # Integer division\n",
        "    remainder = num % base\n",
        "    # Recursive function: once we've found the first residue, we can iterate\n",
        "    # over the rest\n",
        "    print(remainder)\n",
        "    return int_to_base(quotient, base) + [remainder]"
      ]
    },
    {
      "cell_type": "code",
      "source": [
        "int_to_base(8,2)"
      ],
      "metadata": {
        "colab": {
          "base_uri": "https://localhost:8080/"
        },
        "id": "blnb9eYby6ve",
        "outputId": "8b0a707a-b404-4ec3-c53d-0a20b9e98448"
      },
      "execution_count": null,
      "outputs": [
        {
          "output_type": "stream",
          "name": "stdout",
          "text": [
            "0\n",
            "0\n",
            "0\n",
            "1\n"
          ]
        },
        {
          "output_type": "execute_result",
          "data": {
            "text/plain": [
              "[1, 0, 0, 0]"
            ]
          },
          "metadata": {},
          "execution_count": 8
        }
      ]
    },
    {
      "cell_type": "markdown",
      "source": [
        "**Aliasing**\n",
        "Q: When applying changes to an alias of a variable, is the original variable changed?"
      ],
      "metadata": {
        "id": "T0h0QLWClsDi"
      }
    },
    {
      "cell_type": "code",
      "source": [
        "orig_arr = [1, 2, 3]\n",
        "alias_arr = orig_arr\n",
        "\n",
        "alias_arr.append(1)\n",
        "print(orig_arr)\n",
        "# Yes. It's pointing to the same location in memory.\n",
        "\n",
        "print(id(orig_arr) == id(alias_arr))"
      ],
      "metadata": {
        "id": "LRy1Rh8izqTj",
        "colab": {
          "base_uri": "https://localhost:8080/"
        },
        "outputId": "7934ed65-9ccf-456c-9025-d50869651759"
      },
      "execution_count": null,
      "outputs": [
        {
          "output_type": "stream",
          "name": "stdout",
          "text": [
            "[1, 2, 3, 1]\n",
            "True\n"
          ]
        }
      ]
    },
    {
      "cell_type": "markdown",
      "source": [
        "nb: this means that when we pass mutable objects into functions, we **pass by reference!**"
      ],
      "metadata": {
        "id": "aQIqXz_bnfEP"
      }
    },
    {
      "cell_type": "code",
      "source": [
        "mut_arr = [1,2]\n",
        "def ex_func(arr):\n",
        "  arr.append(1)\n",
        "  print(\"Inside the function, the array looks like\", arr, \".\")\n",
        "\n",
        "ex_func(mut_arr)\n",
        "\n",
        "print(\"But now, outside the function, the array still looks like\", mut_arr,\n",
        "      \", because it was passed by reference.\")"
      ],
      "metadata": {
        "colab": {
          "base_uri": "https://localhost:8080/"
        },
        "id": "AuR3Qj0fnfXU",
        "outputId": "1ae26574-dbcc-429f-9af1-b86ae3c86236"
      },
      "execution_count": null,
      "outputs": [
        {
          "output_type": "stream",
          "name": "stdout",
          "text": [
            "Inside the function, the array looks like [1, 2, 1] .\n",
            "But now, outside the function, the array still looks like [1, 2, 1] , because it was passed by reference.\n"
          ]
        }
      ]
    },
    {
      "cell_type": "markdown",
      "source": [
        "# Complexity\n",
        "Determing O(n)"
      ],
      "metadata": {
        "id": "6_uFhjbVqDnt"
      }
    },
    {
      "cell_type": "code",
      "source": [
        "# Consider the following function:\n",
        "def foo(n):\n",
        "    i = 1\n",
        "    while i < n:\n",
        "        print(i)\n",
        "        i *= 2\n",
        "\n",
        "# Question: How many steps will be required to execute for a given n?"
      ],
      "metadata": {
        "id": "aRox52CVmAbQ"
      },
      "execution_count": null,
      "outputs": []
    },
    {
      "cell_type": "markdown",
      "source": [
        "This is easier to demonstrate mathematically than via code.\n",
        "\n",
        "The question is identical to asking:\n",
        "\n",
        "How can we solve the following inequality for j (the number of steps):\n",
        "\n",
        "$ 1*2^j \\leq n $\n",
        "\n",
        "which:\n",
        "\n",
        "$ j \\leq log_2(n) $\n",
        "\n",
        "Not too bad. The function computes in $O(log(n))$."
      ],
      "metadata": {
        "id": "vYIrQOgPrG8A"
      }
    },
    {
      "cell_type": "markdown",
      "source": [
        "More runtime complexity questions:"
      ],
      "metadata": {
        "id": "R2zMwdW1sSB8"
      }
    },
    {
      "cell_type": "code",
      "source": [
        "\"\"\"\n",
        "Classify the runtime complexity of the number_of_steps function below using Big O notation.\n",
        "\"\"\"\n",
        "def number_of_steps(num):\n",
        "    steps = 0\n",
        "    while num > 0:\n",
        "        if num % 2 == 0:\n",
        "            num = num // 2\n",
        "        else:\n",
        "            num = num - 1\n",
        "        steps = steps + 1\n",
        "        print(num, \" after step \", steps)\n",
        "    return steps"
      ],
      "metadata": {
        "id": "YTaI8q_RsVZx"
      },
      "execution_count": 23,
      "outputs": []
    },
    {
      "cell_type": "markdown",
      "source": [
        "We can start to see what this function is doing by having a look at an example execution. (I've added some print statements to demonstrate)"
      ],
      "metadata": {
        "id": "Gw37LnaGsq0l"
      }
    },
    {
      "cell_type": "code",
      "source": [
        "number_of_steps(100)"
      ],
      "metadata": {
        "colab": {
          "base_uri": "https://localhost:8080/"
        },
        "id": "LcEgPni0tEq4",
        "outputId": "5e6dd20d-2bec-4d7b-ef94-dbecc7484bac"
      },
      "execution_count": 22,
      "outputs": [
        {
          "output_type": "stream",
          "name": "stdout",
          "text": [
            "50  after step  1\n",
            "25  after step  2\n",
            "24  after step  3\n",
            "12  after step  4\n",
            "6  after step  5\n",
            "3  after step  6\n",
            "2  after step  7\n",
            "1  after step  8\n",
            "0  after step  9\n"
          ]
        },
        {
          "output_type": "execute_result",
          "data": {
            "text/plain": [
              "9"
            ]
          },
          "metadata": {},
          "execution_count": 22
        }
      ]
    },
    {
      "cell_type": "code",
      "source": [
        "\"\"\"\n",
        "Classify the runtime complexity of the sorted_squares function below using Big O notation.\n",
        "\"\"\"\n",
        "def sorted_squares(A):\n",
        "    N = len(A)\n",
        "    j = 0\n",
        "    while j < N and A[j] < 0:\n",
        "        j += 1\n",
        "    i = j - 1\n",
        "\n",
        "    ans = []\n",
        "    while 0 <= i and j < N:\n",
        "        if A[i]**2 < A[j]**2:\n",
        "            ans.append(A[i]**2)\n",
        "            i -= 1\n",
        "        else:\n",
        "            ans.append(A[j]**2)\n",
        "            j += 1\n",
        "\n",
        "    while i >= 0:\n",
        "        ans.append(A[i]**2)\n",
        "        i -= 1\n",
        "    while j < N:\n",
        "        ans.append(A[j]**2)\n",
        "        j += 1\n",
        "        \n",
        "    return ans"
      ],
      "metadata": {
        "id": "OVs0FXfBsaqx"
      },
      "execution_count": 16,
      "outputs": []
    },
    {
      "cell_type": "code",
      "source": [
        "\"\"\"\n",
        "Classify the runtime complexity of the insertion_sort function below using Big O notation.\n",
        "\"\"\"\n",
        "def insertion_sort(arr):\n",
        "    for i in range(1, len(arr)): \n",
        "        key = arr[i]\n",
        "\n",
        "        j = i-1\n",
        "        while j >= 0 and key < arr[j]: \n",
        "            arr[j + 1] = arr[j] \n",
        "            j -= 1\n",
        "        arr[j + 1] = key\n"
      ],
      "metadata": {
        "id": "84qtpV_msfmN"
      },
      "execution_count": null,
      "outputs": []
    }
  ]
}
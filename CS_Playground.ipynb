{
  "nbformat": 4,
  "nbformat_minor": 0,
  "metadata": {
    "colab": {
      "name": "CS Playground",
      "provenance": [],
      "authorship_tag": "ABX9TyPBxwBNvUK+vxDwuZ/aW+rh",
      "include_colab_link": true
    },
    "kernelspec": {
      "name": "python3",
      "display_name": "Python 3"
    },
    "language_info": {
      "name": "python"
    }
  },
  "cells": [
    {
      "cell_type": "markdown",
      "metadata": {
        "id": "view-in-github",
        "colab_type": "text"
      },
      "source": [
        "<a href=\"https://colab.research.google.com/github/will-cotton4/de-rust/blob/main/CS_Playground.ipynb\" target=\"_parent\"><img src=\"https://colab.research.google.com/assets/colab-badge.svg\" alt=\"Open In Colab\"/></a>"
      ]
    },
    {
      "cell_type": "code",
      "execution_count": null,
      "metadata": {
        "id": "B2rn40-wy1PC"
      },
      "outputs": [],
      "source": [
        "def int_to_base(num, base):\n",
        "    # Converts a non-negative integer to an arbitrary base\n",
        "    # Returns an array, e.g. int_to_base(6, 2) => [1, 1, 0]\n",
        "    if num == 0:\n",
        "        return []\n",
        "    quotient = num // base # Integer division\n",
        "    remainder = num % base\n",
        "    # Recursive function: once we've found the first residue, we can iterate\n",
        "    # over the rest\n",
        "    print(remainder)\n",
        "    return int_to_base(quotient, base) + [remainder]"
      ]
    },
    {
      "cell_type": "code",
      "source": [
        "int_to_base(8,2)"
      ],
      "metadata": {
        "colab": {
          "base_uri": "https://localhost:8080/"
        },
        "id": "blnb9eYby6ve",
        "outputId": "8b0a707a-b404-4ec3-c53d-0a20b9e98448"
      },
      "execution_count": null,
      "outputs": [
        {
          "output_type": "stream",
          "name": "stdout",
          "text": [
            "0\n",
            "0\n",
            "0\n",
            "1\n"
          ]
        },
        {
          "output_type": "execute_result",
          "data": {
            "text/plain": [
              "[1, 0, 0, 0]"
            ]
          },
          "metadata": {},
          "execution_count": 8
        }
      ]
    },
    {
      "cell_type": "markdown",
      "source": [
        "**Aliasing**\n",
        "Q: When applying changes to an alias of a variable, is the original variable changed?"
      ],
      "metadata": {
        "id": "T0h0QLWClsDi"
      }
    },
    {
      "cell_type": "code",
      "source": [
        "orig_arr = [1, 2, 3]\n",
        "alias_arr = orig_arr\n",
        "\n",
        "alias_arr.append(1)\n",
        "print(orig_arr)\n",
        "# Yes. It's pointing to the same location in memory.\n",
        "\n",
        "print(id(orig_arr) == id(alias_arr))"
      ],
      "metadata": {
        "id": "LRy1Rh8izqTj",
        "colab": {
          "base_uri": "https://localhost:8080/"
        },
        "outputId": "7934ed65-9ccf-456c-9025-d50869651759"
      },
      "execution_count": 11,
      "outputs": [
        {
          "output_type": "stream",
          "name": "stdout",
          "text": [
            "[1, 2, 3, 1]\n",
            "True\n"
          ]
        }
      ]
    },
    {
      "cell_type": "markdown",
      "source": [
        "nb: this means that when we pass mutable objects into functions, we **pass by reference!**"
      ],
      "metadata": {
        "id": "aQIqXz_bnfEP"
      }
    },
    {
      "cell_type": "code",
      "source": [
        "mut_arr = [1,2]\n",
        "def ex_func(arr):\n",
        "  arr.append(1)\n",
        "  print(\"Inside the function, the array looks like\", arr, \".\")\n",
        "\n",
        "ex_func(mut_arr)\n",
        "\n",
        "print(\"But now, outside the function, the array still looks like\", mut_arr,\n",
        "      \", because it was passed by reference.\")"
      ],
      "metadata": {
        "colab": {
          "base_uri": "https://localhost:8080/"
        },
        "id": "AuR3Qj0fnfXU",
        "outputId": "1ae26574-dbcc-429f-9af1-b86ae3c86236"
      },
      "execution_count": 15,
      "outputs": [
        {
          "output_type": "stream",
          "name": "stdout",
          "text": [
            "Inside the function, the array looks like [1, 2, 1] .\n",
            "But now, outside the function, the array still looks like [1, 2, 1] , because it was passed by reference.\n"
          ]
        }
      ]
    },
    {
      "cell_type": "code",
      "source": [
        ""
      ],
      "metadata": {
        "id": "aRox52CVmAbQ"
      },
      "execution_count": null,
      "outputs": []
    }
  ]
}